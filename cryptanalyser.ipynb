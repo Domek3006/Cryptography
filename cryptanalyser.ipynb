{
 "cells": [
  {
   "cell_type": "markdown",
   "metadata": {},
   "source": [
    "## Import the analysed cipher"
   ]
  },
  {
   "cell_type": "code",
   "execution_count": null,
   "metadata": {},
   "outputs": [],
   "source": [
    "from tabulate import tabulate\n",
    "from present import *"
   ]
  },
  {
   "cell_type": "markdown",
   "metadata": {},
   "source": [
    "## Initialise cipher and helper functions"
   ]
  },
  {
   "cell_type": "code",
   "execution_count": null,
   "metadata": {},
   "outputs": [],
   "source": [
    "presKey = bytes.fromhex(\"0123456789abcdef0123456789abcdef\")\n",
    "present = Present(presKey, 2)\n",
    "\n",
    "### Reversing the final permutation as it does not do anything for analysis\n",
    "def presentEncrypt(p):\n",
    "    return pLayer_dec(int.from_bytes(present.encrypt(p), 'big'))\n",
    "\n",
    "### Apply permutation back before attempting decryption\n",
    "def presentDecrypt(c):\n",
    "    return present.decrypt(number2string_N(pLayer(c), 8))\n",
    "\n",
    "### Present decryption working on a single S-box\n",
    "def prstDecrypt(block, roundkeys, shift):\n",
    "        rounds = 2\n",
    "        state = string2number(block)\n",
    "        for i in range(rounds - 1):\n",
    "            state = addRoundKey(state, pLayer(roundkeys[-i - 1] << (60 - 4*shift)))\n",
    "            state = pLayer_dec(state)\n",
    "            state = sBoxLayer_dec(state)\n",
    "        decipher = addRoundKey(state, (roundkeys[0] << (60 - 4*shift)))\n",
    "        return number2string_N(decipher, 8)\n"
   ]
  },
  {
   "cell_type": "markdown",
   "metadata": {},
   "source": [
    "# Differential & Impossible Differential cryptanalysis"
   ]
  },
  {
   "cell_type": "code",
   "execution_count": null,
   "metadata": {},
   "outputs": [],
   "source": [
    "### Helper encryption\n",
    "def cipher(p, box, k=(0,2)):\n",
    "    return box[p^k[0]]^k[1]\n",
    "\n",
    "### Helper decryption\n",
    "def decipher(c, box, k=(0,2)):\n",
    "    return box.index(c^k[1])^k[0]\n",
    "\n",
    "### Check key candidate against all text pairs\n",
    "def checkKey(keys, box, shift):\n",
    "    for i in range(len(box)):\n",
    "        c = presentEncrypt((i << (60 - 4 * shift)).to_bytes(8,'big'))\n",
    "        if(i != int(bin(int.from_bytes(prstDecrypt(number2string_N(pLayer(c),8), keys, shift),\"big\"))[2:].rjust(64,\"0\")[shift*4:shift*4+4],2)):\n",
    "            return False\n",
    "    return True      \n",
    "\n",
    "### Guess the key candidate\n",
    "def calcKey(box, pairs, text, shift):\n",
    "    for val in pairs:\n",
    "        key0 = val^text\n",
    "        key1 = box[val]^int(bin(presentEncrypt((text << (60-shift*4)).to_bytes(8,'big')))[2:].rjust(64,'0')[:4],2)\n",
    "        if(checkKey((key0, key1),box,shift)):\n",
    "            return (key0, key1)\n",
    "    return None\n",
    "\n",
    "### Find all possible pairs for given input/output XOR and compute XOR 1 for each first value in a pair\n",
    "def findPairs(box, inXor, outXor, shift):\n",
    "    pairs = list()\n",
    "    textPairs = list()\n",
    "    for i in range(len(box)):\n",
    "        j = i^inXor\n",
    "        if(box[i]^box[j] == outXor):\n",
    "            pairs.append(i)\n",
    "        if(int(bin(presentEncrypt((i  << (60-shift*4)).to_bytes(8,'big')))[2:].rjust(64,'0')[shift*4:shift*4+4],2)^int(bin(presentEncrypt((j  << (60-shift*4)).to_bytes(8,'big')))[2:].rjust(64,'0')[shift*4:shift*4+4],2) == outXor):\n",
    "            textPairs.append(i)\n",
    "    return tuple(pairs), tuple(textPairs)\n",
    "\n",
    "### Find pairs for an immpossible path\n",
    "def findImpPairs(box, inXor, outXor, shift):\n",
    "    pairs = list()\n",
    "    textPairs = list()\n",
    "    for i in range(len(box)):\n",
    "        j = i^inXor\n",
    "        if(box[i]^box[j] != outXor):\n",
    "            pairs.append(i)\n",
    "        if(int(bin(presentEncrypt((i  << (60-shift*4)).to_bytes(8,'big')))[2:].rjust(64,'0')[shift*4:shift*4+4],2)^int(bin(presentEncrypt((j  << (60-shift*4)).to_bytes(8,'big')))[2:].rjust(64,'0')[shift*4:shift*4+4],2) != outXor):\n",
    "            textPairs.append(i)\n",
    "    return tuple(pairs), tuple(textPairs)\n",
    "\n",
    "### Find all non-zero values in XOR profile and sort them by probability and input/output XOR values\n",
    "def findCommon(profile):\n",
    "    charact = list()\n",
    "    for i, row in enumerate(profile):\n",
    "        for j, val in enumerate(row):\n",
    "            if(val > 0):\n",
    "                charact.append((val/profile[0][0], f'({val}/{profile[0][0]})', hex(i)[2:], hex(j)[2:]))\n",
    "    return sorted(charact, key=(lambda x: (1-x[0],int(x[2],16),int(x[3],16))))\n",
    "        \n",
    "### Determine XOR profile\n",
    "def XORprofile(box):\n",
    "    profile = [[0]*len(box) for _ in range(len(box))]\n",
    "    for i in range(len(box)):\n",
    "        for j in range(len(box)):\n",
    "            profile[i^j][box[i]^box[j]] += 1\n",
    "    return profile\n",
    "\n",
    "### Read S-box from file   \n",
    "def parseBox(text):\n",
    "    text = text.split()\n",
    "    return tuple(map(lambda x: int(x, 16), text))"
   ]
  },
  {
   "cell_type": "markdown",
   "metadata": {},
   "source": [
    "## DDT generation"
   ]
  },
  {
   "cell_type": "code",
   "execution_count": null,
   "metadata": {},
   "outputs": [],
   "source": [
    "with open(f'present.sbx', 'r') as file, open(f'present_prof2', \"w\") as profOut, open(f'present_char2', \"w\") as charOut, open('present_keys2', \"a\") as keysOut:\n",
    "    box = parseBox(file.read())\n",
    "    profile = XORprofile(box)\n",
    "    print(tabulate(profile, headers=[hex(i)[2:] for i in range(profile[0][0])], showindex=[hex(i)[2:] for i in range(profile[0][0])], tablefmt='rst'), file=profOut)\n",
    "    charact = findCommon(profile)\n",
    "    print(tabulate(charact, showindex=[f'{i}:' for i in range(1,len(charact)+1)], tablefmt='rst'), file=charOut)\n",
    "    print(f'KS = KEYS(01, {hex(int(charact[2][2],16)^1)[2:].rjust(2,\"0\")}, {charact[2][3]})', file=keysOut)\n",
    "    #print(\" \".join(findPairs(box, int(charact[2][2], 16), int(charact[2][3], 16))), file=keysOut)"
   ]
  },
  {
   "cell_type": "markdown",
   "metadata": {},
   "source": [
    "## Key recovery"
   ]
  },
  {
   "cell_type": "code",
   "execution_count": null,
   "metadata": {},
   "outputs": [],
   "source": [
    "rdyKeys = list()\n",
    "for i in range(16):\n",
    "    for j in range(1, 26):\n",
    "        pairs, textPairs = findPairs(box, int(charact[j][2], 16), int(charact[j][3], 16), i)\n",
    "        print(f'Pairs {i}, {j}: {pairs}, {textPairs}')\n",
    "        for text in textPairs:\n",
    "            key = calcKey(box, pairs, text, i)\n",
    "            if(key != None):\n",
    "                print(f'Charact {j} used: { charact[j]}')\n",
    "                break\n",
    "        if(key != None):\n",
    "            break\n",
    "    print(f'Key {i}: {key}')\n",
    "    if(key != None):\n",
    "        rdyKeys.append(key)"
   ]
  },
  {
   "cell_type": "code",
   "execution_count": null,
   "metadata": {},
   "outputs": [],
   "source": [
    "### Join all found partial subkeys to form the subkeys\n",
    "key0 = ''\n",
    "key1 = ''\n",
    "for keyPair in rdyKeys:\n",
    "    key0 += bin(keyPair[0])[2:].rjust(4,'0')\n",
    "    key1 += bin(keyPair[1])[2:].rjust(4,'0')\n",
    "key0 = int(key0, 2)\n",
    "key1 = pLayer(int(key1, 2))\n",
    "(key0, key1)"
   ]
  },
  {
   "cell_type": "markdown",
   "metadata": {},
   "source": [
    "# Attempted 2-round differential cryptanalysis"
   ]
  },
  {
   "cell_type": "code",
   "execution_count": null,
   "metadata": {},
   "outputs": [],
   "source": [
    "### SP-layer of Present\n",
    "def spLayer(block):\n",
    "    state = sBoxLayer(block)\n",
    "    state = pLayer(state)\n",
    "    return state\n",
    "\n",
    "### Find pairs for SP-layer\n",
    "def findPairsSP(inXor, outXor):\n",
    "    pairs = list()\n",
    "    for i in range(2**32):\n",
    "        j = i^inXor\n",
    "        if(spLayer(i)^spLayer(j) == outXor):\n",
    "            pairs.append((i,j))\n",
    "    return tuple(pairs)\n",
    "\n",
    "### Find pairs for S-box layer\n",
    "def findPairsS(inXor, outXor):\n",
    "    pairs = list()\n",
    "    for i in range(2**5):\n",
    "        j = i^inXor\n",
    "        if(sBoxLayer(i)^sBoxLayer(j) == outXor):\n",
    "            pairs.append((i,j))\n",
    "    return tuple(pairs)"
   ]
  },
  {
   "cell_type": "code",
   "execution_count": null,
   "metadata": {},
   "outputs": [],
   "source": [
    "### Attempt to generate pairs based on a known characteristic\n",
    "pairs = findPairs(int('4004',16), int('400000004',16))\n",
    "pairs0 = findPairsSP(int('4004',16), int('900000009',16))\n",
    "pairs1 = findPairsS(int('9',16), int('4',16))\n",
    "pairs1 = tuple(map(lambda x: (int(hex(x[0])[2:][-1] + hex(x[0])[2:],16),int(hex(x[1])[2:][-1] + hex(x[1])[2:],16)), pairs1))"
   ]
  },
  {
   "cell_type": "markdown",
   "metadata": {},
   "source": [
    "# Linear cryptanalysis"
   ]
  },
  {
   "cell_type": "code",
   "execution_count": null,
   "metadata": {},
   "outputs": [],
   "source": [
    "### Helper function for checking bit parity\n",
    "def checkBitParity(val):\n",
    "    total = 0\n",
    "    while(val):\n",
    "        total ^= val & 1\n",
    "        val >>= 1\n",
    "    return total"
   ]
  },
  {
   "cell_type": "code",
   "execution_count": null,
   "metadata": {},
   "outputs": [],
   "source": [
    "def testKey(keys, p, c, shift):\n",
    "    for pair in zip(p,c):\n",
    "        if(pair[0] != int(bin(int.from_bytes(prstDecrypt(number2string_N(pLayer(pair[1] << 60-shift*4),8), keys, shift),\"big\"))[2:].rjust(64,\"0\")[shift*4:shift*4+4],2)):\n",
    "            return False\n",
    "    return True\n",
    "\n",
    "### Check guessed keys against all text pairs\n",
    "def checkKey(key0, box, p, c, shift):\n",
    "    for i, text in enumerate(p):\n",
    "        mid = box[text^key0]\n",
    "        key1 = mid^c[i]\n",
    "        if(testKey((key0,key1), p, c, shift)):\n",
    "            return (key0,key1)\n",
    "    return None\n",
    "\n",
    "### Guess keys            \n",
    "def calcKey(keys, box, p, c, shift):\n",
    "    for key in keys:\n",
    "        found = checkKey(key, box, p, c, shift)\n",
    "        if(found != None):\n",
    "            return found\n",
    "    return None\n",
    "\n",
    "### Find the keys with highest grades\n",
    "def findMaxKeys(keys):\n",
    "    grades = tuple(map(lambda x: x**2, keys))\n",
    "    maxK = max(grades)\n",
    "    outKeys = list()\n",
    "    for i, key in enumerate(grades):\n",
    "        if(maxK == key):\n",
    "            outKeys.append(i)\n",
    "    return outKeys\n",
    "\n",
    "### Grade all keys based on an approximation\n",
    "def gradeKeys(p, c, box, inApprox, outApprox):\n",
    "    keys = [0]*16\n",
    "    for key in range(len(keys)):\n",
    "        for i, char in enumerate(p):\n",
    "            mid = box[char^key]\n",
    "            if(checkBitParity(mid&inApprox) == checkBitParity(c[i]&outApprox)):\n",
    "                keys[key] += 1\n",
    "            else:\n",
    "                keys[key] -= 1\n",
    "    return keys"
   ]
  },
  {
   "cell_type": "markdown",
   "metadata": {},
   "source": [
    "## Linear approximation profile"
   ]
  },
  {
   "cell_type": "code",
   "execution_count": null,
   "metadata": {},
   "outputs": [],
   "source": [
    "### Sort approximations\n",
    "def findCommon(profile):\n",
    "    charact = list()\n",
    "    for i, row in enumerate(profile):\n",
    "        for j, val in enumerate(row):\n",
    "            if(val > 0):\n",
    "                charact.append((val/profile[0][0], f'({val}/{profile[0][0]})', hex(i)[2:], hex(j)[2:]))\n",
    "    return sorted(charact, key=(lambda x: (1-x[0],int(x[2],16),int(x[3],16))))\n",
    "\n",
    "### Generate LAT\n",
    "def linearProfile(box):\n",
    "    profile = [[0]*len(box) for _ in range(len(box))]\n",
    "    for i in range(1,len(box)):\n",
    "        for j in range(1,len(box)):\n",
    "            for k in range(len(box)):\n",
    "                if(checkBitParity(k&j) == checkBitParity(box[k]&i)):\n",
    "                    profile[j][i] += 1\n",
    "    profile[0][0] = len(box)\n",
    "    return profile\n",
    "\n",
    "def parseBox(text):\n",
    "    text = text.split()\n",
    "    return tuple(map(lambda x: int(x, 16), text))"
   ]
  },
  {
   "cell_type": "code",
   "execution_count": null,
   "metadata": {},
   "outputs": [],
   "source": [
    "with open('present.sbx', 'r') as file, open(f'present/lin_prof', \"w\") as profOut, open(f'present/lin_char', \"w\") as charOut, open('present/lin_keys', \"a\") as keysOut:\n",
    "    box = parseBox(file.read())\n",
    "    print(tabulate([box], showindex=True, headers=range(len(box)), tablefmt='grid'))\n",
    "    profile = linearProfile(box)\n",
    "    #for i, line in enumerate(profile):\n",
    "     #   profile[i] = tuple(map(lambda x: x-16, line))\n",
    "    print(tabulate(profile, headers=[hex(i)[2:] for i in range(len(profile[0]))], showindex=[hex(i)[2:] for i in range(len(profile))], tablefmt='rst'))\n",
    "    charact = findCommon(profile)\n",
    "    #print(tabulate(charact, showindex=[f'{i}:' for i in range(1,len(charact)+1)], tablefmt='rst'), file=charOut)"
   ]
  },
  {
   "cell_type": "markdown",
   "metadata": {},
   "source": [
    "## Key recovery"
   ]
  },
  {
   "cell_type": "code",
   "execution_count": null,
   "metadata": {},
   "outputs": [],
   "source": [
    "rdyKeys = list()\n",
    "maxProb = float(charact[1][0])\n",
    "for i in range(16):\n",
    "    ### Generate all text pairs\n",
    "    p = tuple(x for x in range(16))\n",
    "    c = tuple(map(lambda x: int(bin(presentEncrypt((x << 60-i*4).to_bytes(8,'big')))[2:].rjust(64,'0')[(i*4):(i*4)+4],2), p))\n",
    "    print(f'Pairs {i}: {p}, {c}')\n",
    "    ### Attempt key recovery\n",
    "    for j in range(1, len(charact)):\n",
    "        keyGrades = gradeKeys(p, c, box, int(charact[j][2], 16), int(charact[j][3], 16))\n",
    "        maxKeys = findMaxKeys(keyGrades)\n",
    "        print(f'Max {i}, {j}: {maxKeys}')\n",
    "        key = calcKey(maxKeys, box, p, c, i)\n",
    "        if(key != None):\n",
    "            print(f'Charact {j} used: {charact[j]}')\n",
    "            print(f'Key {i}: {key}')\n",
    "            break\n",
    "    if(key != None):\n",
    "        rdyKeys.append(key)"
   ]
  },
  {
   "cell_type": "code",
   "execution_count": null,
   "metadata": {},
   "outputs": [],
   "source": [
    "### Reassemble key\n",
    "key0 = ''\n",
    "key1 = ''\n",
    "for keyPair in rdyKeys:\n",
    "    key0 += bin(keyPair[0])[2:].rjust(4,'0')\n",
    "    key1 += bin(keyPair[1])[2:].rjust(4,'0')\n",
    "key0 = int(key0, 2)\n",
    "key1 = pLayer(int(key1, 2))"
   ]
  }
 ],
 "metadata": {
  "language_info": {
   "name": "python"
  }
 },
 "nbformat": 4,
 "nbformat_minor": 2
}
